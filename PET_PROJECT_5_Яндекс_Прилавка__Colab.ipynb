{
  "nbformat": 4,
  "nbformat_minor": 0,
  "metadata": {
    "colab": {
      "provenance": [],
      "authorship_tag": "ABX9TyM9WCpDXqYMNyAWDuIjUZ2B",
      "include_colab_link": true
    },
    "kernelspec": {
      "name": "python3",
      "display_name": "Python 3"
    },
    "language_info": {
      "name": "python"
    }
  },
  "cells": [
    {
      "cell_type": "markdown",
      "metadata": {
        "id": "view-in-github",
        "colab_type": "text"
      },
      "source": [
        "<a href=\"https://colab.research.google.com/github/GRSagitov/Yandex-Practicum/blob/main/PET_PROJECT_5_%D0%AF%D0%BD%D0%B4%D0%B5%D0%BA%D1%81_%D0%9F%D1%80%D0%B8%D0%BB%D0%B0%D0%B2%D0%BA%D0%B0__Colab.ipynb\" target=\"_parent\"><img src=\"https://colab.research.google.com/assets/colab-badge.svg\" alt=\"Open In Colab\"/></a>"
      ]
    },
    {
      "cell_type": "markdown",
      "source": [
        "**Тестовый стенд динамический. Сохранил стенд и документацию на Wayback Machine.**\n",
        "\n",
        "**Тестовый стенд:**\n",
        "\n",
        "https://web.archive.org/web/20250921213727/https://236d5591-f26c-47c2-944a-6f2c3a485117.serverhub.praktikum-services.ru/\n",
        "\n",
        "**Документация:**\n",
        "\n",
        "https://github.com/GRSagitov/Yandex-Practicum/blob/495655e38bbebe1d88e22ce765b5ce3103c186f1/API%20%D0%AF%D0%BD%D0%B4%D0%B5%D0%BA%D1%81.%D0%9F%D1%80%D0%B8%D0%BB%D0%B0%D0%B2%D0%BE%D0%BA.htm\n",
        "\n",
        "Разработчики сделали новую функциональность в API Яндекс.Прилавка. Новую версию API передали на тестирование.\n",
        "\n",
        "Новая функциональность.\n",
        "\n",
        "**Работа с наборами:** возможность добавлять продукты в набор — ручка\n",
        "> POST /api/v1/kits/id_name/products\n",
        "\n",
        "**Работа с курьерами:** возможность проверить, есть ли доставка курьерской службой «Привезём быстро» и сколько она стоит. Ручка\n",
        "> POST /fast-delivery/v3.1.1/calculate-delivery.xml\n",
        "\n",
        "**Работа с корзиной:**\n",
        "* возможность получить список продуктов, которые добавили в корзину. Ручка\n",
        "\n",
        "> GET /api/v1/orders/:id\n",
        "\n",
        "* возможность добавлять продукты в корзину. Ручка\n",
        "\n",
        "> PUT /api/v1/orders/:id\n",
        "\n",
        "* возможность удалять корзину. Ручка\n",
        "\n",
        "> DELETE /api/v1/orders/:id\n",
        "\n",
        "**Постановка задачи**\n",
        "\n",
        "1. Проанализировать требования к новой функциональности бэкенда Яндекс.Прилавка. Изучить документацию к API в Apidoc. Требования к бэкенду находятся [здесь](https://code.s3.yandex.net/qa/files/backend_requirements.pdf).\n",
        "2. Спроектировать тесты в виде чек-листа, чтобы покрыть функциональность, которую передали на тестирование: она описана выше. Авторизацию проверять не нужно.\n",
        "3. Чек-лист помещаем в гугл-таблицу.\n",
        "4. Протестирую API через Postman и заведу баг-репорты в Google Таблицу, если это понадобится.\n",
        "\n",
        "\n",
        "**Отчет:** https://docs.google.com/spreadsheets/d/12JQbCVk45fdnZkEAfkGuF-Up2-85OVTG8ivk0DaKAXY/edit?usp=sharing\n",
        "\n",
        "**Комментарий ревьюера:**\n",
        "\n",
        "Габдула, привет!\n",
        "Замечания исправлены, хорошая работа, молодец, зачет)\n",
        "\n",
        "\n",
        "\n",
        "\n",
        "\n",
        "\n",
        "\n"
      ],
      "metadata": {
        "id": "kcLBEJaDMrQ_"
      }
    }
  ]
}